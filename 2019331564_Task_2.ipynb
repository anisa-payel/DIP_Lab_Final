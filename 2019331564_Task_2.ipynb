{
  "nbformat": 4,
  "nbformat_minor": 0,
  "metadata": {
    "colab": {
      "provenance": []
    },
    "kernelspec": {
      "name": "python3",
      "display_name": "Python 3"
    },
    "language_info": {
      "name": "python"
    }
  },
  "cells": [
    {
      "cell_type": "code",
      "execution_count": null,
      "metadata": {
        "id": "W2qfgNVGxw3F"
      },
      "outputs": [],
      "source": [
        "import cv2\n",
        "import numpy as np\n",
        "from google.colab import drive"
      ]
    },
    {
      "cell_type": "code",
      "source": [
        "drive.mount('/content/drive')"
      ],
      "metadata": {
        "colab": {
          "base_uri": "https://localhost:8080/"
        },
        "id": "2NqHM5UCzkjK",
        "outputId": "a8bb3470-7d72-491d-abfa-ef83fe514d21"
      },
      "execution_count": null,
      "outputs": [
        {
          "output_type": "stream",
          "name": "stdout",
          "text": [
            "Drive already mounted at /content/drive; to attempt to forcibly remount, call drive.mount(\"/content/drive\", force_remount=True).\n"
          ]
        }
      ]
    },
    {
      "cell_type": "code",
      "source": [
        "image_path = '/content/DIP_Lab_task_02.jpg'"
      ],
      "metadata": {
        "id": "fw28f6s7zZ-6"
      },
      "execution_count": null,
      "outputs": []
    },
    {
      "cell_type": "code",
      "source": [
        "rgb_image = cv2.imread(image_path)\n",
        "if rgb_image is None:\n",
        "    print(\"Error: Image not found. Check the path.\")\n",
        "else:\n",
        "    gray_image = cv2.cvtColor(rgb_image, cv2.COLOR_BGR2GRAY)\n",
        "    print(\"Successfully converted RGB image to grayscale.\")\n",
        "\n",
        "    x, y = 50, 50\n",
        "    sub_region = gray_image[y:y+5, x:x+5]\n",
        "\n",
        "    print(\"Extracted 5x5 Sub-region of Grayscale Image:\")\n",
        "    print(sub_region)\n"
      ],
      "metadata": {
        "colab": {
          "base_uri": "https://localhost:8080/"
        },
        "id": "VLUrd64dzeHT",
        "outputId": "a9b20394-1a46-4fb2-8d32-4f5f1930aeea"
      },
      "execution_count": null,
      "outputs": [
        {
          "output_type": "stream",
          "name": "stdout",
          "text": [
            "Successfully converted RGB image to grayscale.\n",
            "Extracted 5x5 Sub-region of Grayscale Image:\n",
            "[[106 107 108 109 107]\n",
            " [114 115 113 114 112]\n",
            " [118 119 118 118 116]\n",
            " [120 120 121 120 118]\n",
            " [122 122 120 120 119]]\n"
          ]
        }
      ]
    }
  ]
}